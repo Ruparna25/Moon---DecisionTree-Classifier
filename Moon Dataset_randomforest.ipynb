{
 "cells": [
  {
   "cell_type": "code",
   "execution_count": 1,
   "id": "815f77f7-8cc1-4f9c-bd7e-982571dc93be",
   "metadata": {},
   "outputs": [],
   "source": [
    "from sklearn.datasets import make_moons\n",
    "\n",
    "X, y=make_moons(n_samples=10000, noise=0.4, random_state=42)"
   ]
  },
  {
   "cell_type": "code",
   "execution_count": 6,
   "id": "c63b8823-4b96-499b-b9e5-ec7b44e3e91a",
   "metadata": {},
   "outputs": [],
   "source": [
    "from sklearn.model_selection import train_test_split\n",
    "\n",
    "X_train, X_test, y_train, y_test = train_test_split(X,y, test_size=0.2,random_state=42)"
   ]
  },
  {
   "cell_type": "code",
   "execution_count": 11,
   "id": "2be3f03b-06b8-407e-bfe8-ea1e63afdeef",
   "metadata": {},
   "outputs": [
    {
     "name": "stdout",
     "output_type": "stream",
     "text": [
      "Fitting 3 folds for each of 294 candidates, totalling 882 fits\n"
     ]
    },
    {
     "data": {
      "text/plain": [
       "GridSearchCV(cv=3, estimator=DecisionTreeClassifier(random_state=42), n_jobs=1,\n",
       "             param_grid={'max_leaf_nodes': [2, 3, 4, 5, 6, 7, 8, 9, 10, 11, 12,\n",
       "                                            13, 14, 15, 16, 17, 18, 19, 20, 21,\n",
       "                                            22, 23, 24, 25, 26, 27, 28, 29, 30,\n",
       "                                            31, ...],\n",
       "                         'min_samples_split': [2, 3, 4]},\n",
       "             verbose=1)"
      ]
     },
     "execution_count": 11,
     "metadata": {},
     "output_type": "execute_result"
    }
   ],
   "source": [
    "from sklearn.model_selection import GridSearchCV\n",
    "from sklearn.tree import DecisionTreeClassifier\n",
    "\n",
    "params={'max_leaf_nodes': list(range(2,100)), 'min_samples_split':[2,3,4]}\n",
    "grid_search=GridSearchCV(DecisionTreeClassifier(random_state=42), params, cv=3, n_jobs=1, verbose=1)\n",
    "\n",
    "grid_search.fit(X_train, y_train)"
   ]
  },
  {
   "cell_type": "code",
   "execution_count": 12,
   "id": "e3584eea-8892-4735-8f57-5faf0630b4fd",
   "metadata": {},
   "outputs": [
    {
     "data": {
      "text/plain": [
       "DecisionTreeClassifier(max_leaf_nodes=17, random_state=42)"
      ]
     },
     "execution_count": 12,
     "metadata": {},
     "output_type": "execute_result"
    }
   ],
   "source": [
    "grid_search.best_estimator_"
   ]
  },
  {
   "cell_type": "code",
   "execution_count": 13,
   "id": "2991fb9b-730c-4429-9193-2674675f6017",
   "metadata": {},
   "outputs": [
    {
     "data": {
      "text/plain": [
       "0.8695"
      ]
     },
     "execution_count": 13,
     "metadata": {},
     "output_type": "execute_result"
    }
   ],
   "source": [
    "#Accuracy score\n",
    "from sklearn.metrics import accuracy_score\n",
    "\n",
    "y_pred=grid_search.predict(X_test)\n",
    "accuracy_score(y_test,y_pred)"
   ]
  },
  {
   "cell_type": "code",
   "execution_count": 14,
   "id": "1a533366-94a1-4479-920d-250627274c0f",
   "metadata": {},
   "outputs": [],
   "source": [
    "#RandomForestClassifier"
   ]
  },
  {
   "cell_type": "code",
   "execution_count": 15,
   "id": "4d33638d-cde9-4930-8982-365a4a51a48b",
   "metadata": {},
   "outputs": [],
   "source": [
    "#generate 1,000 subsets of the training set, each containing 100 instances selected randomly.\n",
    "from sklearn.model_selection import ShuffleSplit\n",
    "\n",
    "n_trees=1000\n",
    "n_instances=100\n",
    "\n",
    "mini_split=[]\n",
    "\n",
    "rs=ShuffleSplit(n_splits=n_trees,test_size=len(X_train)-n_instances,random_state=42)\n",
    "for mini_train_index, mini_test_index in rs.split(X_train):\n",
    "    X_mini_train=X_train[mini_train_index]\n",
    "    y_mini_train=y_train[mini_train_index]\n",
    "    mini_split.append((X_mini_train,y_mini_train))"
   ]
  },
  {
   "cell_type": "code",
   "execution_count": 22,
   "id": "6675be40-4018-4770-a3e2-4fe003a5cc9a",
   "metadata": {},
   "outputs": [],
   "source": [
    "#Train one decision tree on each subset using the best hyperparameter obtain from GridSearchCV\n",
    "from sklearn.base import clone\n",
    "\n",
    "forest= [clone(grid_search.best_estimator_) for _ in range(n_trees)]                #Creates 1000 decision tree with GridSearch best estimator\n",
    "\n",
    "accuracy_scores=[]\n",
    "\n",
    "for tree, (X_mini_train, y_mini_train) in zip(forest, mini_split):\n",
    "    tree.fit(X_mini_train,y_mini_train)\n",
    "    \n",
    "    y_pred=tree.predict(X_test)\n",
    "    accuracy_scores.append(accuracy_score(y_test,y_pred))"
   ]
  },
  {
   "cell_type": "code",
   "execution_count": 24,
   "id": "46a6c65c-c404-416f-ae53-5739402c5bf8",
   "metadata": {},
   "outputs": [
    {
     "data": {
      "text/plain": [
       "0.8054499999999999"
      ]
     },
     "execution_count": 24,
     "metadata": {},
     "output_type": "execute_result"
    }
   ],
   "source": [
    "import numpy as np\n",
    "np.mean(accuracy_scores)"
   ]
  },
  {
   "cell_type": "code",
   "execution_count": 30,
   "id": "69ecb60c-1d55-4a5d-af3b-d2fa83a1b6a0",
   "metadata": {},
   "outputs": [],
   "source": [
    "#For each test instance produce prediction of 1000 decision trees and use the most frequent prediction\n",
    "\n",
    "Y_pred=np.empty([n_trees,len(X_test)])\n",
    "\n",
    "for tree_index, tree in enumerate(forest):\n",
    "    Y_pred[tree_index]=tree.predict(X_test)"
   ]
  },
  {
   "cell_type": "code",
   "execution_count": 39,
   "id": "bdc707cc-3f2e-472c-bb88-a3a94ffd34c7",
   "metadata": {},
   "outputs": [
    {
     "data": {
      "text/plain": [
       "array([1., 1., 0., ..., 0., 0., 0.])"
      ]
     },
     "execution_count": 39,
     "metadata": {},
     "output_type": "execute_result"
    }
   ],
   "source": [
    "from scipy.stats import mode\n",
    "\n",
    "y_pred_majority_votes,n_votes=mode(Y_pred,axis=0)"
   ]
  },
  {
   "cell_type": "code",
   "execution_count": 40,
   "id": "ee807ba0-4f22-4a5e-8730-6b032c079537",
   "metadata": {},
   "outputs": [
    {
     "data": {
      "text/plain": [
       "0.872"
      ]
     },
     "execution_count": 40,
     "metadata": {},
     "output_type": "execute_result"
    }
   ],
   "source": [
    "#Evaluate accuracy of the model\n",
    "\n",
    "accuracy_score(y_test,y_pred_majority_votes.reshape([-1]))"
   ]
  },
  {
   "cell_type": "code",
   "execution_count": null,
   "id": "619b1c5e-ff22-42de-9070-c692be4df13f",
   "metadata": {},
   "outputs": [],
   "source": []
  }
 ],
 "metadata": {
  "kernelspec": {
   "display_name": "Python 3 (ipykernel)",
   "language": "python",
   "name": "python3"
  },
  "language_info": {
   "codemirror_mode": {
    "name": "ipython",
    "version": 3
   },
   "file_extension": ".py",
   "mimetype": "text/x-python",
   "name": "python",
   "nbconvert_exporter": "python",
   "pygments_lexer": "ipython3",
   "version": "3.8.10"
  }
 },
 "nbformat": 4,
 "nbformat_minor": 5
}
